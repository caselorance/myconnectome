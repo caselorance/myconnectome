{
 "metadata": {
  "name": "",
  "signature": "sha256:a496caef8185574214b352188195fd57373ab9c188ec6461f72fbe5401548bab"
 },
 "nbformat": 3,
 "nbformat_minor": 0,
 "worksheets": [
  {
   "cells": [
    {
     "cell_type": "markdown",
     "metadata": {},
     "source": [
      "Quality assurance metrics were computed as described by http://preprocessed-connectomes-project.github.io/quality-assessment-protocol/index.html using Chris Gorgolewski's enh branch https://github.com/chrisfilo/quality-assessment-protocol/tree/enh\n",
      "(note: descriptions of QA measures below are copied directly from the QAP web site)\n",
      "\n",
      "Data from my connectome project were compared to data for the CORR project obtained from https://raw.githubusercontent.com/preprocessed-connectomes-project/quality-assessment-protocol/master/poster_data/corr_func.csv\n",
      "\n",
      "The following preprocesing was performed:\n",
      "- motion correction: mcflirt using sinc interpolation\n",
      "- compute mean functional from mcflirt output\n",
      "- bet on mean functional to obtain functional brain mask\n",
      "\n",
      "First, we load the relevant libraries and data"
     ]
    },
    {
     "cell_type": "code",
     "collapsed": false,
     "input": [
      "import os,glob\n",
      "import pickle\n",
      "import pandas as pd\n",
      "import numpy\n",
      "import seaborn as sns\n",
      "import matplotlib.pyplot as plt\n",
      "\n",
      "%matplotlib inline\n",
      "\n",
      "sns.set(style=\"whitegrid\")\n",
      "\n",
      "corr_func=pd.read_csv('corr_func.csv',dtype={'func_efc':numpy.float32})\n",
      "corr_func.drop([u'Unnamed: 0','subject', u'session', u'scan', u'site'],axis=1,inplace=True)\n",
      "qadatadir='/Users/poldrack/Dropbox/data/selftracking/QA'\n",
      "\n",
      "myc=pd.read_csv('myconnectome_func_qa.csv',dtype={'func_efc':numpy.float32})\n",
      "myc.drop([u'Unnamed: 0'],axis=1,inplace=True)\n"
     ],
     "language": "python",
     "metadata": {},
     "outputs": [],
     "prompt_number": 39
    },
    {
     "cell_type": "code",
     "collapsed": false,
     "input": [
      "myc.describe()"
     ],
     "language": "python",
     "metadata": {},
     "outputs": [
      {
       "html": [
        "<div style=\"max-height:1000px;max-width:1500px;overflow:auto;\">\n",
        "<table border=\"1\" class=\"dataframe\">\n",
        "  <thead>\n",
        "    <tr style=\"text-align: right;\">\n",
        "      <th></th>\n",
        "      <th>func_efc</th>\n",
        "      <th>func_fber</th>\n",
        "      <th>func_fwhm</th>\n",
        "      <th>func_gsr</th>\n",
        "      <th>func_mean_fd</th>\n",
        "      <th>func_perc_fd</th>\n",
        "      <th>func_quality</th>\n",
        "      <th>func_snr</th>\n",
        "    </tr>\n",
        "  </thead>\n",
        "  <tbody>\n",
        "    <tr>\n",
        "      <th>count</th>\n",
        "      <td> 100.000000</td>\n",
        "      <td> 100.000000</td>\n",
        "      <td> 100.000000</td>\n",
        "      <td> 100.000000</td>\n",
        "      <td> 100.000000</td>\n",
        "      <td> 100.000000</td>\n",
        "      <td> 100.000000</td>\n",
        "      <td> 100.000000</td>\n",
        "    </tr>\n",
        "    <tr>\n",
        "      <th>mean</th>\n",
        "      <td>   0.891043</td>\n",
        "      <td> 101.443277</td>\n",
        "      <td>   3.148945</td>\n",
        "      <td>   0.012692</td>\n",
        "      <td>   0.047989</td>\n",
        "      <td>   0.700772</td>\n",
        "      <td>   0.028530</td>\n",
        "      <td>   9.353201</td>\n",
        "    </tr>\n",
        "    <tr>\n",
        "      <th>std</th>\n",
        "      <td>   0.032654</td>\n",
        "      <td>  86.706045</td>\n",
        "      <td>   0.069580</td>\n",
        "      <td>   0.005114</td>\n",
        "      <td>   0.005648</td>\n",
        "      <td>   0.796985</td>\n",
        "      <td>   0.008530</td>\n",
        "      <td>   1.471202</td>\n",
        "    </tr>\n",
        "    <tr>\n",
        "      <th>min</th>\n",
        "      <td>   0.577420</td>\n",
        "      <td>  71.814765</td>\n",
        "      <td>   3.056443</td>\n",
        "      <td>   0.001848</td>\n",
        "      <td>   0.038040</td>\n",
        "      <td>   0.000000</td>\n",
        "      <td>   0.009368</td>\n",
        "      <td>   8.108289</td>\n",
        "    </tr>\n",
        "    <tr>\n",
        "      <th>25%</th>\n",
        "      <td>   0.890766</td>\n",
        "      <td>  82.015829</td>\n",
        "      <td>   3.108347</td>\n",
        "      <td>   0.009251</td>\n",
        "      <td>   0.044397</td>\n",
        "      <td>   0.000000</td>\n",
        "      <td>   0.029841</td>\n",
        "      <td>   8.658291</td>\n",
        "    </tr>\n",
        "    <tr>\n",
        "      <th>50%</th>\n",
        "      <td>   0.891737</td>\n",
        "      <td>  88.728794</td>\n",
        "      <td>   3.133029</td>\n",
        "      <td>   0.011722</td>\n",
        "      <td>   0.047290</td>\n",
        "      <td>   0.482625</td>\n",
        "      <td>   0.031161</td>\n",
        "      <td>   8.956896</td>\n",
        "    </tr>\n",
        "    <tr>\n",
        "      <th>75%</th>\n",
        "      <td>   0.893249</td>\n",
        "      <td>  94.885877</td>\n",
        "      <td>   3.168601</td>\n",
        "      <td>   0.015563</td>\n",
        "      <td>   0.050753</td>\n",
        "      <td>   0.965251</td>\n",
        "      <td>   0.032169</td>\n",
        "      <td>   9.410244</td>\n",
        "    </tr>\n",
        "    <tr>\n",
        "      <th>max</th>\n",
        "      <td>   0.921244</td>\n",
        "      <td> 943.572641</td>\n",
        "      <td>   3.470001</td>\n",
        "      <td>   0.031604</td>\n",
        "      <td>   0.070946</td>\n",
        "      <td>   4.054054</td>\n",
        "      <td>   0.062982</td>\n",
        "      <td>  20.673819</td>\n",
        "    </tr>\n",
        "  </tbody>\n",
        "</table>\n",
        "</div>"
       ],
       "metadata": {},
       "output_type": "pyout",
       "prompt_number": 40,
       "text": [
        "         func_efc   func_fber   func_fwhm    func_gsr  func_mean_fd  \\\n",
        "count  100.000000  100.000000  100.000000  100.000000    100.000000   \n",
        "mean     0.891043  101.443277    3.148945    0.012692      0.047989   \n",
        "std      0.032654   86.706045    0.069580    0.005114      0.005648   \n",
        "min      0.577420   71.814765    3.056443    0.001848      0.038040   \n",
        "25%      0.890766   82.015829    3.108347    0.009251      0.044397   \n",
        "50%      0.891737   88.728794    3.133029    0.011722      0.047290   \n",
        "75%      0.893249   94.885877    3.168601    0.015563      0.050753   \n",
        "max      0.921244  943.572641    3.470001    0.031604      0.070946   \n",
        "\n",
        "       func_perc_fd  func_quality    func_snr  \n",
        "count    100.000000    100.000000  100.000000  \n",
        "mean       0.700772      0.028530    9.353201  \n",
        "std        0.796985      0.008530    1.471202  \n",
        "min        0.000000      0.009368    8.108289  \n",
        "25%        0.000000      0.029841    8.658291  \n",
        "50%        0.482625      0.031161    8.956896  \n",
        "75%        0.965251      0.032169    9.410244  \n",
        "max        4.054054      0.062982   20.673819  "
       ]
      }
     ],
     "prompt_number": 40
    },
    {
     "cell_type": "markdown",
     "metadata": {},
     "source": [
      "NB: Mean FD for the CORR dataset seems to be the wrong order of magnitude."
     ]
    },
    {
     "cell_type": "code",
     "collapsed": false,
     "input": [
      "corr_func.describe()"
     ],
     "language": "python",
     "metadata": {},
     "outputs": [
      {
       "html": [
        "<div style=\"max-height:1000px;max-width:1500px;overflow:auto;\">\n",
        "<table border=\"1\" class=\"dataframe\">\n",
        "  <thead>\n",
        "    <tr style=\"text-align: right;\">\n",
        "      <th></th>\n",
        "      <th>func_efc</th>\n",
        "      <th>func_fber</th>\n",
        "      <th>func_fwhm</th>\n",
        "      <th>func_gsr</th>\n",
        "      <th>func_dvars</th>\n",
        "      <th>func_quality</th>\n",
        "      <th>func_mean_fd</th>\n",
        "      <th>func_num_fd</th>\n",
        "      <th>func_perc_fd</th>\n",
        "    </tr>\n",
        "  </thead>\n",
        "  <tbody>\n",
        "    <tr>\n",
        "      <th>count</th>\n",
        "      <td> 4405.000000</td>\n",
        "      <td> 4405.000000</td>\n",
        "      <td> 4405.000000</td>\n",
        "      <td> 4405.000000</td>\n",
        "      <td> 4405.000000</td>\n",
        "      <td> 4405.000000</td>\n",
        "      <td> 4405.000000</td>\n",
        "      <td> 4405.000000</td>\n",
        "      <td> 4405.000000</td>\n",
        "    </tr>\n",
        "    <tr>\n",
        "      <th>mean</th>\n",
        "      <td>    0.504551</td>\n",
        "      <td>   94.475182</td>\n",
        "      <td>    2.026466</td>\n",
        "      <td>    0.030071</td>\n",
        "      <td>    1.106522</td>\n",
        "      <td>    0.009806</td>\n",
        "      <td>    3.716168</td>\n",
        "      <td>   33.263337</td>\n",
        "      <td>   16.923388</td>\n",
        "    </tr>\n",
        "    <tr>\n",
        "      <th>std</th>\n",
        "      <td>    0.058454</td>\n",
        "      <td>   35.502540</td>\n",
        "      <td>    0.293301</td>\n",
        "      <td>    0.016454</td>\n",
        "      <td>    0.111045</td>\n",
        "      <td>    0.011960</td>\n",
        "      <td>    3.192556</td>\n",
        "      <td>   46.254471</td>\n",
        "      <td>   22.262009</td>\n",
        "    </tr>\n",
        "    <tr>\n",
        "      <th>min</th>\n",
        "      <td>    0.343191</td>\n",
        "      <td>   31.830160</td>\n",
        "      <td>    1.598039</td>\n",
        "      <td>   -0.012061</td>\n",
        "      <td>    0.147600</td>\n",
        "      <td>    0.000375</td>\n",
        "      <td>    0.472900</td>\n",
        "      <td>    0.000000</td>\n",
        "      <td>    0.000000</td>\n",
        "    </tr>\n",
        "    <tr>\n",
        "      <th>25%</th>\n",
        "      <td>    0.463897</td>\n",
        "      <td>   67.887800</td>\n",
        "      <td>    1.850653</td>\n",
        "      <td>    0.018436</td>\n",
        "      <td>    1.044864</td>\n",
        "      <td>    0.004997</td>\n",
        "      <td>    1.916800</td>\n",
        "      <td>    3.000000</td>\n",
        "      <td>    1.652900</td>\n",
        "    </tr>\n",
        "    <tr>\n",
        "      <th>50%</th>\n",
        "      <td>    0.514514</td>\n",
        "      <td>   85.899793</td>\n",
        "      <td>    1.940585</td>\n",
        "      <td>    0.028783</td>\n",
        "      <td>    1.106443</td>\n",
        "      <td>    0.007618</td>\n",
        "      <td>    2.882500</td>\n",
        "      <td>   14.000000</td>\n",
        "      <td>    6.965200</td>\n",
        "    </tr>\n",
        "    <tr>\n",
        "      <th>75%</th>\n",
        "      <td>    0.545801</td>\n",
        "      <td>  115.402070</td>\n",
        "      <td>    2.098682</td>\n",
        "      <td>    0.039209</td>\n",
        "      <td>    1.177063</td>\n",
        "      <td>    0.011929</td>\n",
        "      <td>    4.383900</td>\n",
        "      <td>   45.000000</td>\n",
        "      <td>   23.204400</td>\n",
        "    </tr>\n",
        "    <tr>\n",
        "      <th>max</th>\n",
        "      <td>    0.655902</td>\n",
        "      <td>  279.975814</td>\n",
        "      <td>    6.756840</td>\n",
        "      <td>    0.121735</td>\n",
        "      <td>    1.540820</td>\n",
        "      <td>    0.521312</td>\n",
        "      <td>   83.396800</td>\n",
        "      <td>  607.000000</td>\n",
        "      <td>   98.342500</td>\n",
        "    </tr>\n",
        "  </tbody>\n",
        "</table>\n",
        "</div>"
       ],
       "metadata": {},
       "output_type": "pyout",
       "prompt_number": 41,
       "text": [
        "          func_efc    func_fber    func_fwhm     func_gsr   func_dvars  \\\n",
        "count  4405.000000  4405.000000  4405.000000  4405.000000  4405.000000   \n",
        "mean      0.504551    94.475182     2.026466     0.030071     1.106522   \n",
        "std       0.058454    35.502540     0.293301     0.016454     0.111045   \n",
        "min       0.343191    31.830160     1.598039    -0.012061     0.147600   \n",
        "25%       0.463897    67.887800     1.850653     0.018436     1.044864   \n",
        "50%       0.514514    85.899793     1.940585     0.028783     1.106443   \n",
        "75%       0.545801   115.402070     2.098682     0.039209     1.177063   \n",
        "max       0.655902   279.975814     6.756840     0.121735     1.540820   \n",
        "\n",
        "       func_quality  func_mean_fd  func_num_fd  func_perc_fd  \n",
        "count   4405.000000   4405.000000  4405.000000   4405.000000  \n",
        "mean       0.009806      3.716168    33.263337     16.923388  \n",
        "std        0.011960      3.192556    46.254471     22.262009  \n",
        "min        0.000375      0.472900     0.000000      0.000000  \n",
        "25%        0.004997      1.916800     3.000000      1.652900  \n",
        "50%        0.007618      2.882500    14.000000      6.965200  \n",
        "75%        0.011929      4.383900    45.000000     23.204400  \n",
        "max        0.521312     83.396800   607.000000     98.342500  "
       ]
      }
     ],
     "prompt_number": 41
    },
    {
     "cell_type": "markdown",
     "metadata": {},
     "source": [
      "Set up grouping variable for the two datasets"
     ]
    },
    {
     "cell_type": "code",
     "collapsed": false,
     "input": [
      "grouping=pd.Series(['myc' for i in range(myc.func_fwhm.shape[0])] + ['corr' for i in range(corr_func.func_fwhm.shape[0])])\n"
     ],
     "language": "python",
     "metadata": {},
     "outputs": [],
     "prompt_number": 42
    },
    {
     "cell_type": "markdown",
     "metadata": {},
     "source": [
      "Smoothness of Voxels [FWHM]:  The full-width half maximum (FWHM) of the spatial distribution of the image intensity values in units of voxels, lower values are better. Uses mean functional."
     ]
    },
    {
     "cell_type": "code",
     "collapsed": false,
     "input": [
      "\n",
      "\n",
      "data=pd.DataFrame(numpy.vstack((numpy.hstack((myc.func_fwhm,corr_func.func_fwhm)),grouping)).T,columns=['FWHM','group'])\n",
      "sns.violinplot(data.FWHM,data.group, color=\"Set3\",  inner=\"box\") \n",
      "data.\n",
      "data.FWHM.groupby(grouping).mean()"
     ],
     "language": "python",
     "metadata": {},
     "outputs": [
      {
       "ename": "DataError",
       "evalue": "No numeric types to aggregate",
       "output_type": "pyerr",
       "traceback": [
        "\u001b[0;31m---------------------------------------------------------------------------\u001b[0m\n\u001b[0;31mDataError\u001b[0m                                 Traceback (most recent call last)",
        "\u001b[0;32m<ipython-input-43-c52be684f7e2>\u001b[0m in \u001b[0;36m<module>\u001b[0;34m()\u001b[0m\n\u001b[1;32m      3\u001b[0m \u001b[0mdata\u001b[0m\u001b[0;34m=\u001b[0m\u001b[0mpd\u001b[0m\u001b[0;34m.\u001b[0m\u001b[0mDataFrame\u001b[0m\u001b[0;34m(\u001b[0m\u001b[0mnumpy\u001b[0m\u001b[0;34m.\u001b[0m\u001b[0mvstack\u001b[0m\u001b[0;34m(\u001b[0m\u001b[0;34m(\u001b[0m\u001b[0mnumpy\u001b[0m\u001b[0;34m.\u001b[0m\u001b[0mhstack\u001b[0m\u001b[0;34m(\u001b[0m\u001b[0;34m(\u001b[0m\u001b[0mmyc\u001b[0m\u001b[0;34m.\u001b[0m\u001b[0mfunc_fwhm\u001b[0m\u001b[0;34m,\u001b[0m\u001b[0mcorr_func\u001b[0m\u001b[0;34m.\u001b[0m\u001b[0mfunc_fwhm\u001b[0m\u001b[0;34m)\u001b[0m\u001b[0;34m)\u001b[0m\u001b[0;34m,\u001b[0m\u001b[0mgrouping\u001b[0m\u001b[0;34m)\u001b[0m\u001b[0;34m)\u001b[0m\u001b[0;34m.\u001b[0m\u001b[0mT\u001b[0m\u001b[0;34m,\u001b[0m\u001b[0mcolumns\u001b[0m\u001b[0;34m=\u001b[0m\u001b[0;34m[\u001b[0m\u001b[0;34m'FWHM'\u001b[0m\u001b[0;34m,\u001b[0m\u001b[0;34m'group'\u001b[0m\u001b[0;34m]\u001b[0m\u001b[0;34m)\u001b[0m\u001b[0;34m\u001b[0m\u001b[0m\n\u001b[1;32m      4\u001b[0m \u001b[0msns\u001b[0m\u001b[0;34m.\u001b[0m\u001b[0mviolinplot\u001b[0m\u001b[0;34m(\u001b[0m\u001b[0mdata\u001b[0m\u001b[0;34m.\u001b[0m\u001b[0mFWHM\u001b[0m\u001b[0;34m,\u001b[0m\u001b[0mdata\u001b[0m\u001b[0;34m.\u001b[0m\u001b[0mgroup\u001b[0m\u001b[0;34m,\u001b[0m \u001b[0mcolor\u001b[0m\u001b[0;34m=\u001b[0m\u001b[0;34m\"Set3\"\u001b[0m\u001b[0;34m,\u001b[0m  \u001b[0minner\u001b[0m\u001b[0;34m=\u001b[0m\u001b[0;34m\"box\"\u001b[0m\u001b[0;34m)\u001b[0m\u001b[0;34m\u001b[0m\u001b[0m\n\u001b[0;32m----> 5\u001b[0;31m \u001b[0mdata\u001b[0m\u001b[0;34m.\u001b[0m\u001b[0mFWHM\u001b[0m\u001b[0;34m.\u001b[0m\u001b[0mgroupby\u001b[0m\u001b[0;34m(\u001b[0m\u001b[0mgrouping\u001b[0m\u001b[0;34m)\u001b[0m\u001b[0;34m.\u001b[0m\u001b[0mmean\u001b[0m\u001b[0;34m(\u001b[0m\u001b[0;34m)\u001b[0m\u001b[0;34m\u001b[0m\u001b[0m\n\u001b[0m",
        "\u001b[0;32m/Users/poldrack/Library/Enthought/Canopy_64bit/User/lib/python2.7/site-packages/pandas/core/groupby.pyc\u001b[0m in \u001b[0;36mmean\u001b[0;34m(self)\u001b[0m\n\u001b[1;32m    689\u001b[0m         \"\"\"\n\u001b[1;32m    690\u001b[0m         \u001b[0;32mtry\u001b[0m\u001b[0;34m:\u001b[0m\u001b[0;34m\u001b[0m\u001b[0m\n\u001b[0;32m--> 691\u001b[0;31m             \u001b[0;32mreturn\u001b[0m \u001b[0mself\u001b[0m\u001b[0;34m.\u001b[0m\u001b[0m_cython_agg_general\u001b[0m\u001b[0;34m(\u001b[0m\u001b[0;34m'mean'\u001b[0m\u001b[0;34m)\u001b[0m\u001b[0;34m\u001b[0m\u001b[0m\n\u001b[0m\u001b[1;32m    692\u001b[0m         \u001b[0;32mexcept\u001b[0m \u001b[0mGroupByError\u001b[0m\u001b[0;34m:\u001b[0m\u001b[0;34m\u001b[0m\u001b[0m\n\u001b[1;32m    693\u001b[0m             \u001b[0;32mraise\u001b[0m\u001b[0;34m\u001b[0m\u001b[0m\n",
        "\u001b[0;32m/Users/poldrack/Library/Enthought/Canopy_64bit/User/lib/python2.7/site-packages/pandas/core/groupby.pyc\u001b[0m in \u001b[0;36m_cython_agg_general\u001b[0;34m(self, how, numeric_only)\u001b[0m\n\u001b[1;32m   1095\u001b[0m \u001b[0;34m\u001b[0m\u001b[0m\n\u001b[1;32m   1096\u001b[0m         \u001b[0;32mif\u001b[0m \u001b[0mlen\u001b[0m\u001b[0;34m(\u001b[0m\u001b[0moutput\u001b[0m\u001b[0;34m)\u001b[0m \u001b[0;34m==\u001b[0m \u001b[0;36m0\u001b[0m\u001b[0;34m:\u001b[0m\u001b[0;34m\u001b[0m\u001b[0m\n\u001b[0;32m-> 1097\u001b[0;31m             \u001b[0;32mraise\u001b[0m \u001b[0mDataError\u001b[0m\u001b[0;34m(\u001b[0m\u001b[0;34m'No numeric types to aggregate'\u001b[0m\u001b[0;34m)\u001b[0m\u001b[0;34m\u001b[0m\u001b[0m\n\u001b[0m\u001b[1;32m   1098\u001b[0m \u001b[0;34m\u001b[0m\u001b[0m\n\u001b[1;32m   1099\u001b[0m         \u001b[0;32mreturn\u001b[0m \u001b[0mself\u001b[0m\u001b[0;34m.\u001b[0m\u001b[0m_wrap_aggregated_output\u001b[0m\u001b[0;34m(\u001b[0m\u001b[0moutput\u001b[0m\u001b[0;34m,\u001b[0m \u001b[0mnames\u001b[0m\u001b[0;34m)\u001b[0m\u001b[0;34m\u001b[0m\u001b[0m\n",
        "\u001b[0;31mDataError\u001b[0m: No numeric types to aggregate"
       ]
      },
      {
       "metadata": {},
       "output_type": "display_data",
       "png": "[encoded data removed]",
       "text": [
        "<matplotlib.figure.Figure at 0x114d65d10>"
       ]
      }
     ],
     "prompt_number": 43
    },
    {
     "cell_type": "markdown",
     "metadata": {},
     "source": [
      "Entopy Focus Criterion [EFC]: Uses the Shannon entropy of voxel intensities as an indication of ghosting and blurring induced by head motion, lower is better. Uses mean functional.\n",
      "    "
     ]
    },
    {
     "cell_type": "code",
     "collapsed": false,
     "input": [
      "data=pd.DataFrame(numpy.vstack((numpy.hstack((myc.func_efc,corr_func.func_efc)),grouping)).T,columns=['EFC','group'])\n",
      "sns.violinplot(data.EFC,data.group, color=\"Set3\",  inner=\"box\") \n"
     ],
     "language": "python",
     "metadata": {},
     "outputs": []
    },
    {
     "cell_type": "markdown",
     "metadata": {},
     "source": [
      "Foreground to Background Energy Ratio [FBER]: Mean energy of image values (i.e., mean of squares) within the head relative to outside the head, higher values are better. Uses mean functional."
     ]
    },
    {
     "cell_type": "code",
     "collapsed": false,
     "input": [
      "data=pd.DataFrame(numpy.vstack((numpy.hstack((myc.func_fber,corr_func.func_fber)),grouping)).T,columns=['FBER','group'])\n",
      "sns.violinplot(data.FBER,data.group, color=\"Set3\", inner=\"box\") \n"
     ],
     "language": "python",
     "metadata": {},
     "outputs": []
    },
    {
     "cell_type": "markdown",
     "metadata": {},
     "source": [
      "Ghost to Signal Ratio (GSR) [func_gsr]: A measure of the mean signal in the \u2018ghost\u2019 image (signal present outside the brain due to acquisition in the phase encoding direction) relative to mean signal within the brain, lower values are better. Uses mean functional."
     ]
    },
    {
     "cell_type": "code",
     "collapsed": false,
     "input": [
      "data=pd.DataFrame(numpy.vstack((numpy.hstack((myc.func_gsr,corr_func.func_gsr)),grouping)).T,columns=['GSR','group'])\n",
      "sns.violinplot(data.GSR,data.group, color=\"Set3\", inner=\"box\") \n"
     ],
     "language": "python",
     "metadata": {},
     "outputs": []
    },
    {
     "cell_type": "markdown",
     "metadata": {},
     "source": [
      "Median Distance Index [func_quality]: The mean distance (1 \u2013 spearman\u2019s rho) between each time-point\u2019s volume and the median volume using AFNI\u2019s 3dTqual command (http://afni.nimh.nih.gov/afni), lower values are better. Uses functional time-series."
     ]
    },
    {
     "cell_type": "code",
     "collapsed": false,
     "input": [
      "data=pd.DataFrame(numpy.vstack((numpy.hstack((myc.func_quality,corr_func.func_quality)),grouping)).T,columns=['MeanDistanceIndex','group'])\n",
      "sns.violinplot(data.MeanDistanceIndex,data.group, color=\"Set3\", inner=\"box\") \n"
     ],
     "language": "python",
     "metadata": {},
     "outputs": []
    },
    {
     "cell_type": "markdown",
     "metadata": {},
     "source": [
      "Mean Fractional Displacement - Jenkinson [func_mean_fd]: A measure of subject head motion, which compares the motion between the current and previous volumes. This is calculated by summing the absolute value of displacement changes in the x, y and z directions and rotational changes about those three axes. The rotational changes are given distance values based on the changes across the surface of a 80mm radius sphere, lower values are better 89. Uses functional time-series.\n"
     ]
    },
    {
     "cell_type": "code",
     "collapsed": false,
     "input": [
      "data=pd.DataFrame(numpy.vstack((numpy.hstack((myc.func_perc_fd,corr_func.func_perc_fd)),grouping)).T,columns=['PercFD','group'])\n",
      "sns.violinplot(data.PercFD,data.group, color=\"Set3\", inner=\"box\") #cut=.6,lw=.5, \n"
     ],
     "language": "python",
     "metadata": {},
     "outputs": []
    }
   ],
   "metadata": {}
  }
 ]
}